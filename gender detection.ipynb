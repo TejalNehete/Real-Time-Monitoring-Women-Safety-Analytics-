{
 "cells": [
  {
   "cell_type": "code",
   "execution_count": 1,
   "id": "8a7072dc",
   "metadata": {},
   "outputs": [
    {
     "name": "stdout",
     "output_type": "stream",
     "text": [
      "Requirement already satisfied: opencv-python in c:\\users\\administrator\\anaconda3\\lib\\site-packages (4.10.0.84)\n",
      "Requirement already satisfied: numpy>=1.21.2 in c:\\users\\administrator\\anaconda3\\lib\\site-packages (from opencv-python) (1.24.3)\n",
      "Note: you may need to restart the kernel to use updated packages.\n"
     ]
    }
   ],
   "source": [
    "pip install opencv-python"
   ]
  },
  {
   "cell_type": "code",
   "execution_count": 1,
   "id": "d9e710fb",
   "metadata": {},
   "outputs": [
    {
     "name": "stdout",
     "output_type": "stream",
     "text": [
      "4.10.0\n"
     ]
    }
   ],
   "source": [
    "import cv2\n",
    "print(cv2.__version__)"
   ]
  },
  {
   "cell_type": "code",
   "execution_count": 2,
   "id": "e280270d",
   "metadata": {},
   "outputs": [
    {
     "name": "stdout",
     "output_type": "stream",
     "text": [
      "Requirement already satisfied: opencv-contrib-python in c:\\users\\administrator\\appdata\\roaming\\python\\python311\\site-packages (4.10.0.84)Note: you may need to restart the kernel to use updated packages.\n",
      "\n",
      "Requirement already satisfied: numpy>=1.21.2 in c:\\users\\administrator\\anaconda3\\lib\\site-packages (from opencv-contrib-python) (1.24.3)\n"
     ]
    }
   ],
   "source": [
    "pip install opencv-contrib-python"
   ]
  },
  {
   "cell_type": "code",
   "execution_count": 1,
   "id": "ee4cce14",
   "metadata": {},
   "outputs": [
    {
     "name": "stdout",
     "output_type": "stream",
     "text": [
      "Press 'q' to quit.\n"
     ]
    }
   ],
   "source": [
    "import cv2\n",
    "import numpy as np\n",
    "from collections import deque\n",
    "\n",
    "# Load Haar Cascade for face detection\n",
    "face_cascade = cv2.CascadeClassifier(cv2.data.haarcascades + 'haarcascade_frontalface_default.xml')\n",
    "\n",
    "# Dummy gender classification function (replace with real model if available)\n",
    "def classify_gender(face_img):\n",
    "    return np.random.choice([\"Male\", \"Female\"])\n",
    "\n",
    "# Check if a woman is surrounded by men\n",
    "def is_surrounded(woman_center, men_centers, min_distance=100):\n",
    "    for man_center in men_centers:\n",
    "        if np.linalg.norm(np.array(woman_center) - np.array(man_center)) < min_distance:\n",
    "            return True\n",
    "    return False\n",
    "\n",
    "# Moving average function to smooth positions\n",
    "def moving_average(positions, window_size=5):\n",
    "    positions_list = list(positions)  # Convert deque to list\n",
    "    if len(positions_list) < window_size:\n",
    "        return np.mean(positions_list, axis=0)\n",
    "    return np.mean(positions_list[-window_size:], axis=0)\n",
    "\n",
    "# Initialize webcam\n",
    "cap = cv2.VideoCapture(0)\n",
    "if not cap.isOpened():\n",
    "    print(\"Error: Could not open webcam.\")\n",
    "    exit()\n",
    "\n",
    "# Store positions for smoothing\n",
    "women_positions = deque(maxlen=10)\n",
    "\n",
    "print(\"Press 'q' to quit.\")\n",
    "while True:\n",
    "    # Capture frame-by-frame\n",
    "    ret, frame = cap.read()\n",
    "    if not ret:\n",
    "        print(\"Error: Could not read frame.\")\n",
    "        break\n",
    "\n",
    "    # Resize for consistent processing\n",
    "    frame = cv2.resize(frame, (640, 480))\n",
    "\n",
    "    # Convert to grayscale for face detection\n",
    "    gray = cv2.cvtColor(frame, cv2.COLOR_BGR2GRAY)\n",
    "\n",
    "    # Det ect faces in the frame\n",
    "    faces = face_cascade.detectMultiScale(gray, scaleFactor=1.1, minNeighbors=5, minSize=(50, 50))\n",
    "\n",
    "    women_centers = []\n",
    "    men_centers = []\n",
    "\n",
    "    for (x, y, w, h) in faces:\n",
    "        face_img = frame[y:y+h, x:x+w]\n",
    "        if face_img.size > 0:\n",
    "            # Predict gender for the detected face\n",
    "            gender = classify_gender(face_img)\n",
    "            center = (x + w // 2, y + h // 2)\n",
    "\n",
    "            # Assign colors and categorize centers\n",
    "            if gender == \"Female\":\n",
    "                women_centers.append(center)\n",
    "                women_positions.append(center)\n",
    "                color = (255, 0, 0)  # Blue for women\n",
    "            else:\n",
    "                men_centers.append(center)\n",
    "                color = (0, 255, 0)  # Green for men\n",
    "\n",
    "            # Draw bounding box and label\n",
    "            cv2.rectangle(frame, (x, y), (x + w, y + h), color, 2)\n",
    "            cv2.putText(frame, gender, (x, y - 10), cv2.FONT_HERSHEY_SIMPLEX, 0.6, color, 2)\n",
    "\n",
    "    # Check for women surrounded by men\n",
    "    for woman_center in women_centers:\n",
    "        smoothed_center = moving_average(women_positions, window_size=5)\n",
    "        if is_surrounded(woman_center, men_centers):\n",
    "            cv2.putText(frame, \"Surrounded by men\", (int(smoothed_center[0]) - 50, int(smoothed_center[1]) - 50),\n",
    "                        cv2.FONT_HERSHEY_SIMPLEX, 0.6, (0, 0, 255), 2)\n",
    "        else:\n",
    "            cv2.putText(frame, \"Lone woman\", (int(smoothed_center[0]) - 50, int(smoothed_center[1]) - 50),\n",
    "                        cv2.FONT_HERSHEY_SIMPLEX, 0.6, (255, 0, 0), 2)\n",
    "\n",
    "    # Display the processed frame\n",
    "    cv2.imshow('Gender Detection', frame)\n",
    "\n",
    "    # Break on pressing 'q'\n",
    "    if cv2.waitKey(1) & 0xFF == ord('q'):\n",
    "        break\n",
    "\n",
    "# Release resources\n",
    "cap.release()\n",
    "cv2.destroyAllWindows()"
   ]
  },
  {
   "cell_type": "code",
   "execution_count": null,
   "id": "b09d72b5",
   "metadata": {},
   "outputs": [],
   "source": []
  }
 ],
 "metadata": {
  "kernelspec": {
   "display_name": "Python 3 (ipykernel)",
   "language": "python",
   "name": "python3"
  },
  "language_info": {
   "codemirror_mode": {
    "name": "ipython",
    "version": 3
   },
   "file_extension": ".py",
   "mimetype": "text/x-python",
   "name": "python",
   "nbconvert_exporter": "python",
   "pygments_lexer": "ipython3",
   "version": "3.11.3"
  }
 },
 "nbformat": 4,
 "nbformat_minor": 5
}
